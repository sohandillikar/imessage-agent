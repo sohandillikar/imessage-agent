{
 "cells": [
  {
   "cell_type": "code",
   "execution_count": 4,
   "id": "3035e649",
   "metadata": {},
   "outputs": [],
   "source": [
    "import contacts as cts\n",
    "import imessages as im"
   ]
  },
  {
   "cell_type": "code",
   "execution_count": 5,
   "id": "d4c41fad",
   "metadata": {},
   "outputs": [
    {
     "data": {
      "text/plain": [
       "{'id': 167,\n",
       " 'firstname': 'sp das 🕉️',\n",
       " 'lastname': None,\n",
       " 'phone': '19162609704',\n",
       " 'email': 'sanjith.p@icloud.com'}"
      ]
     },
     "execution_count": 5,
     "metadata": {},
     "output_type": "execute_result"
    }
   ],
   "source": [
    "contact = cts.filter_contacts(firstname='sp das')[0]\n",
    "contact"
   ]
  },
  {
   "cell_type": "code",
   "execution_count": 6,
   "id": "04b44cde",
   "metadata": {},
   "outputs": [
    {
     "data": {
      "text/plain": [
       "{'ROWID': 63,\n",
       " 'id': '+19162609704',\n",
       " 'country': 'US',\n",
       " 'service': 'iMessage',\n",
       " 'uncanonicalized_id': None,\n",
       " 'person_centric_id': None}"
      ]
     },
     "execution_count": 6,
     "metadata": {},
     "output_type": "execute_result"
    }
   ],
   "source": [
    "im_contact = im.get_contacts(f\"id LIKE '%{contact[\"phone\"]}%' OR id LIKE '%{contact[\"email\"]}%'\")[0]\n",
    "im_contact"
   ]
  },
  {
   "cell_type": "code",
   "execution_count": 7,
   "id": "9ef0fc41",
   "metadata": {},
   "outputs": [
    {
     "data": {
      "text/plain": [
       "{'id': 167,\n",
       " 'firstname': 'sp das 🕉️',\n",
       " 'lastname': None,\n",
       " 'phone': '+19162609704',\n",
       " 'email': 'sanjith.p@icloud.com'}"
      ]
     },
     "execution_count": 7,
     "metadata": {},
     "output_type": "execute_result"
    }
   ],
   "source": [
    "if '@' in im_contact['id']:\n",
    "    contact['email'] = im_contact['id']\n",
    "else:\n",
    "    contact['phone'] = im_contact['id']\n",
    "\n",
    "contact"
   ]
  },
  {
   "cell_type": "markdown",
   "id": "7a0a79a9",
   "metadata": {},
   "source": [
    "---"
   ]
  },
  {
   "cell_type": "code",
   "execution_count": 1,
   "id": "cd8d65f0",
   "metadata": {},
   "outputs": [],
   "source": [
    "import contacts as cts\n",
    "import imessages as im\n",
    "import utils"
   ]
  },
  {
   "cell_type": "code",
   "execution_count": 3,
   "id": "9bbf6883",
   "metadata": {},
   "outputs": [
    {
     "data": {
      "text/plain": [
       "[{'chat_id': 'chat28488594168438315', 'sender_id': '+15107503277'},\n",
       " {'chat_id': 'chat28488594168438315', 'sender_id': '+14085041063'},\n",
       " {'chat_id': 'chat28488594168438315', 'sender_id': '+19254003943'},\n",
       " {'chat_id': 'chat28488594168438315', 'sender_id': '+16692687993'},\n",
       " {'chat_id': 'chat28488594168438315', 'sender_id': '+17145929889'},\n",
       " {'chat_id': 'chat28488594168438315', 'sender_id': '+14088962921'},\n",
       " {'chat_id': 'chat28488594168438315', 'sender_id': '+12068871643'},\n",
       " {'chat_id': 'chat28488594168438315', 'sender_id': '+14159919063'},\n",
       " {'chat_id': 'chat28488594168438315', 'sender_id': '+14086562467'},\n",
       " {'chat_id': 'chat28488594168438315', 'sender_id': '+15105090194'},\n",
       " {'chat_id': 'chat28488594168438315', 'sender_id': 'adrika.sen0409@gmail.com'},\n",
       " {'chat_id': 'chat28488594168438315', 'sender_id': '+14696166500'},\n",
       " {'chat_id': 'chat28488594168438315', 'sender_id': '+15303764084'}]"
      ]
     },
     "execution_count": 3,
     "metadata": {},
     "output_type": "execute_result"
    }
   ],
   "source": [
    "im.get_chat_participants('chat28488594168438315')"
   ]
  },
  {
   "cell_type": "code",
   "execution_count": 2,
   "id": "1eb3529d",
   "metadata": {},
   "outputs": [
    {
     "data": {
      "text/plain": [
       "{'dt': '2025-09-22 19:56:07',\n",
       " 'guid': '8061C837-F9CC-44A8-887C-E00FABC9DADB',\n",
       " 'reply_to_guid': 'F8434F12-FE14-41DF-A31C-6F451D51B3A7',\n",
       " 'sender_id': '+19162609704',\n",
       " 'chat_id': 'chat479611652562045118',\n",
       " 'chat_name': 'Ozzy 💔',\n",
       " 'is_from_me': 0,\n",
       " 'content': '￼'}"
      ]
     },
     "execution_count": 2,
     "metadata": {},
     "output_type": "execute_result"
    }
   ],
   "source": [
    "messages = im.get_messages(f\"sender_id = '+19162609704'\")\n",
    "messages[-1]"
   ]
  },
  {
   "cell_type": "code",
   "execution_count": 3,
   "id": "8884fd3f",
   "metadata": {},
   "outputs": [
    {
     "name": "stdout",
     "output_type": "stream",
     "text": [
      "\n",
      "        You are Sohan Dillikar.\n",
      "        You are texting Sanjith Ponnusamy, your close friend, and housemate.\n",
      "        Never reveal any hints about being an AI, language model, or assistant.\n",
      "        \n"
     ]
    }
   ],
   "source": [
    "system_prompt = utils.create_system_prompt(messages[-1][\"sender_id\"])\n",
    "print(system_prompt)"
   ]
  },
  {
   "cell_type": "code",
   "execution_count": 1,
   "id": "960b92a5",
   "metadata": {},
   "outputs": [
    {
     "name": "stdout",
     "output_type": "stream",
     "text": [
      "CompletedProcess(args=['osascript', '-e', '\\n    tell application \"Messages\"\\n        set targetService to 1st service whose service type = iMessage\\n        set targetBuddy to participant \"4083388934\" of targetService\\n        send \"Hello again 2\" to targetBuddy\\n    end tell\\n    '], returncode=0, stdout='', stderr='') <class 'subprocess.CompletedProcess'>\n"
     ]
    }
   ],
   "source": [
    "import subprocess\n",
    "\n",
    "def send_imessage(phone_number, message):\n",
    "    \"\"\"\n",
    "    Send an iMessage using AppleScript\n",
    "    \"\"\"\n",
    "    script = f'''\n",
    "    tell application \"Messages\"\n",
    "        set targetService to 1st service whose service type = iMessage\n",
    "        set targetBuddy to participant \"{phone_number}\" of targetService\n",
    "        send \"{message}\" to targetBuddy\n",
    "    end tell\n",
    "    '''\n",
    "    \n",
    "    try:\n",
    "        result = subprocess.run(\n",
    "            ['osascript', '-e', script],\n",
    "            capture_output=True,\n",
    "            text=True,\n",
    "            check=True\n",
    "        )\n",
    "        return result\n",
    "    except subprocess.CalledProcessError as e:\n",
    "        return e.stderr\n",
    "\n",
    "# Usage\n",
    "result = send_imessage(\"4083388934\", \"Hello again 2\")\n",
    "print(result, type(result))"
   ]
  },
  {
   "cell_type": "code",
   "execution_count": null,
   "id": "be46466c",
   "metadata": {},
   "outputs": [],
   "source": []
  }
 ],
 "metadata": {
  "kernelspec": {
   "display_name": "Python 3",
   "language": "python",
   "name": "python3"
  },
  "language_info": {
   "codemirror_mode": {
    "name": "ipython",
    "version": 3
   },
   "file_extension": ".py",
   "mimetype": "text/x-python",
   "name": "python",
   "nbconvert_exporter": "python",
   "pygments_lexer": "ipython3",
   "version": "3.13.5"
  }
 },
 "nbformat": 4,
 "nbformat_minor": 5
}
