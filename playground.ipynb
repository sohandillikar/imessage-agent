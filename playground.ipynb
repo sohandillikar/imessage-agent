{
 "cells": [
  {
   "cell_type": "code",
   "execution_count": 1,
   "id": "17065839",
   "metadata": {},
   "outputs": [],
   "source": [
    "import json\n",
    "import imessages as im\n",
    "from datetime import datetime"
   ]
  },
  {
   "cell_type": "code",
   "execution_count": 2,
   "id": "5caa5c6f",
   "metadata": {},
   "outputs": [
    {
     "name": "stdout",
     "output_type": "stream",
     "text": [
      "Found 1631 messages sent by you w/ a reply_to_guid\n",
      "Cleaned convos: 1628\n"
     ]
    }
   ],
   "source": [
    "sender_id = \"+15107503277\"\n",
    "# dt >= '2025-09-14' AND\n",
    "# dt < '2025-09-15' AND\n",
    "query_options = f\"\"\"\n",
    "sender_id = '{sender_id}' AND\n",
    "reply_to_guid IS NOT NULL AND\n",
    "is_from_me = 1\n",
    "\"\"\"\n",
    "\n",
    "messages = im.get_messages(options=query_options)\n",
    "print(\"Found\", len(messages), \"messages sent by you w/ a reply_to_guid\")\n",
    "\n",
    "cleaned_convos = im.get_conversations(messages, unique=False, clean=True, bad_messages_file='bad_messages.json')\n",
    "print(\"Cleaned convos:\", len(cleaned_convos))"
   ]
  },
  {
   "cell_type": "code",
   "execution_count": 5,
   "id": "c3f08b6c",
   "metadata": {},
   "outputs": [
    {
     "name": "stdout",
     "output_type": "stream",
     "text": [
      "Found 33 bad messages\n"
     ]
    }
   ],
   "source": [
    "bad_words = [\n",
    "    # Racial slurs\n",
    "    \"nigga\", \"nigger\", \"chink\",\n",
    "    \n",
    "    # Slurs targeting sexuality / gender\n",
    "    \"fag\", \"faggot\", \"tranny\", \"shemale\", \"homo\",\n",
    "    \n",
    "    # Slurs targeting disability / mental health\n",
    "    \"retard\", \"sped\", \"autistic\",\n",
    "    \n",
    "    # General profanity\n",
    "    \"bitch\", \"slut\", \"whore\", \"cunt\", \"fuck\", \"shit\",\n",
    "\n",
    "    # Adult / sexual / violent terms\n",
    "    \"sex\", \"porn\", \"erotic\", \"hentai\", \"nude\", \"naked\",\n",
    "    \"boobs\", \"tits\", \"ass\", \"dick\", \"cock\", \"pussy\",\n",
    "    \"orgasm\", \"cum\", \"jerk off\", \"jack off\", \"masturbate\",\n",
    "    \"masturbation\", \"condom\", \"rape\", \"rapist\", \"raping\",\n",
    "    \"kill\",\n",
    "]\n",
    "\n",
    "def extract_bad_messages(convos, output_file=None):\n",
    "    \"\"\"\n",
    "    convos: list of UNIQUE conversations\n",
    "    \"\"\"\n",
    "    bad_messages = {}\n",
    "    for convo in convos:\n",
    "        for message in convo:\n",
    "            for word in bad_words:\n",
    "                if message['content'].lower().find(word) != -1:\n",
    "                    bad_messages[message['guid']] = {\n",
    "                        'bad_word': word,\n",
    "                        'is_from_me': message['is_from_me'],\n",
    "                        'content': message['content'],\n",
    "                        'rephrased': message['content']\n",
    "                    }\n",
    "    \n",
    "    if not output_file is None:\n",
    "        with open(output_file, 'w') as f:\n",
    "            json.dump(bad_messages, f, indent=4)\n",
    "    \n",
    "    return bad_messages\n",
    "\n",
    "bad_messages = extract_bad_messages(cleaned_convos)\n",
    "print('Found', len(bad_messages), 'bad messages')"
   ]
  },
  {
   "cell_type": "code",
   "execution_count": 4,
   "id": "391302cb",
   "metadata": {},
   "outputs": [],
   "source": [
    "im.prepare_convos_for_fine_tuning(cleaned_convos, output_file='fine_tuning_data.jsonl')"
   ]
  },
  {
   "cell_type": "markdown",
   "id": "870ddca9",
   "metadata": {},
   "source": [
    "---"
   ]
  },
  {
   "cell_type": "code",
   "execution_count": null,
   "id": "4728f308",
   "metadata": {},
   "outputs": [],
   "source": [
    "def get_most_recent_message(messages, start_index, is_from_me=0):\n",
    "    while not messages[start_index][\"is_from_me\"] == is_from_me:\n",
    "        start_index -= 1\n",
    "    return messages[start_index]\n",
    "\n",
    "def calculate_time_diff(msg1, msg2):\n",
    "    dt1 = datetime.strptime(msg1['dt'], '%Y-%m-%d %H:%M:%S')\n",
    "    dt2 = datetime.strptime(msg2['dt'], '%Y-%m-%d %H:%M:%S')\n",
    "    return (dt2 - dt1).total_seconds()\n",
    "\n",
    "def prepare_for_fine_tuning(messages):\n",
    "    system_prompt = \"You are Sohan's texting bot. Your job is to reply exactly as Sohan would text his girlfriend, Ishani. If Ishani sends multiple texts in a row, you may also reply with multiple texts if needed. Never break character and always respond like Sohan texting his girlfriend.\"\n",
    "    system_message = {\"role\": \"system\", \"content\": system_prompt}\n",
    "    while messages[0][\"is_from_me\"]:\n",
    "        del messages[0]\n",
    "\n",
    "    fine_tuning_data = []\n",
    "    i = 0\n",
    "\n",
    "    while i < len(messages):\n",
    "        if messages[i][\"is_from_me\"]:\n",
    "            # prev_message = get_most_recent_message(messages, i, 0)\n",
    "            # time_diff = calculate_time_diff(prev_message, messages[i])\n",
    "            fine_tuning_data[-1][\"messages\"].append({\"role\": \"assistant\", \"content\": messages[i][\"content\"]})\n",
    "        elif i > 0 and not messages[i-1][\"is_from_me\"]:\n",
    "            fine_tuning_data[-1][\"messages\"].append({\"role\": \"user\", \"content\": messages[i][\"content\"]})\n",
    "        else:\n",
    "            fine_tuning_data.append({\"messages\": [\n",
    "                system_message,\n",
    "                {\"role\": \"user\", \"content\": messages[i][\"content\"]}\n",
    "            ]})\n",
    "        i += 1\n",
    "\n",
    "    return fine_tuning_data"
   ]
  },
  {
   "cell_type": "code",
   "execution_count": null,
   "id": "aeb942f1",
   "metadata": {},
   "outputs": [
    {
     "data": {
      "text/plain": [
       "{'messages': [{'role': 'system',\n",
       "   'content': \"You are Sohan's texting bot. Your job is to reply exactly as Sohan would text his girlfriend, Ishani. If Ishani sends multiple texts in a row, you may also reply with multiple texts if needed. Never break character and always respond like Sohan texting his girlfriend.\"},\n",
       "  {'role': 'user', 'content': 'dude'},\n",
       "  {'role': 'user', 'content': 'do u have car'},\n",
       "  {'role': 'assistant', 'content': 'most likely yes'}]}"
      ]
     },
     "execution_count": 9,
     "metadata": {},
     "output_type": "execute_result"
    }
   ],
   "source": [
    "fine_tuning_data = prepare_for_fine_tuning(messages)\n",
    "fine_tuning_data[0]"
   ]
  },
  {
   "cell_type": "code",
   "execution_count": null,
   "id": "312ac7d7",
   "metadata": {},
   "outputs": [],
   "source": [
    "with open('fine_tuning_data.jsonl', 'w') as f:\n",
    "    for item in fine_tuning_data:\n",
    "        f.write(json.dumps(item) + '\\n')"
   ]
  },
  {
   "cell_type": "code",
   "execution_count": null,
   "id": "f7b88077",
   "metadata": {},
   "outputs": [],
   "source": []
  }
 ],
 "metadata": {
  "kernelspec": {
   "display_name": "Python 3",
   "language": "python",
   "name": "python3"
  },
  "language_info": {
   "codemirror_mode": {
    "name": "ipython",
    "version": 3
   },
   "file_extension": ".py",
   "mimetype": "text/x-python",
   "name": "python",
   "nbconvert_exporter": "python",
   "pygments_lexer": "ipython3",
   "version": "3.13.5"
  }
 },
 "nbformat": 4,
 "nbformat_minor": 5
}
