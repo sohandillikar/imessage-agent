{
 "cells": [
  {
   "cell_type": "code",
   "execution_count": 5,
   "id": "3035e649",
   "metadata": {},
   "outputs": [],
   "source": [
    "import contacts as cts\n",
    "import imessages as im"
   ]
  },
  {
   "cell_type": "code",
   "execution_count": 6,
   "id": "d4c41fad",
   "metadata": {},
   "outputs": [
    {
     "data": {
      "text/plain": [
       "{'id': 8,\n",
       " 'firstname': 'ishani 🐿️',\n",
       " 'lastname': None,\n",
       " 'phone': '5107503277',\n",
       " 'email': None}"
      ]
     },
     "execution_count": 6,
     "metadata": {},
     "output_type": "execute_result"
    }
   ],
   "source": [
    "contact = cts.filter_contacts(firstname='ishani')[0]\n",
    "contact"
   ]
  },
  {
   "cell_type": "code",
   "execution_count": 7,
   "id": "04b44cde",
   "metadata": {},
   "outputs": [
    {
     "data": {
      "text/plain": [
       "{'ROWID': 60,\n",
       " 'id': '+15107503277',\n",
       " 'country': 'US',\n",
       " 'service': 'iMessage',\n",
       " 'uncanonicalized_id': '5107503277',\n",
       " 'person_centric_id': None}"
      ]
     },
     "execution_count": 7,
     "metadata": {},
     "output_type": "execute_result"
    }
   ],
   "source": [
    "im_contact = im.get_contacts(f\"id LIKE '%{contact[\"phone\"]}%' OR id LIKE '%{contact[\"email\"]}%'\")[0]\n",
    "im_contact"
   ]
  },
  {
   "cell_type": "code",
   "execution_count": 8,
   "id": "9ef0fc41",
   "metadata": {},
   "outputs": [
    {
     "data": {
      "text/plain": [
       "{'id': 8,\n",
       " 'firstname': 'ishani 🐿️',\n",
       " 'lastname': None,\n",
       " 'phone': '+15107503277',\n",
       " 'email': None}"
      ]
     },
     "execution_count": 8,
     "metadata": {},
     "output_type": "execute_result"
    }
   ],
   "source": [
    "if '@' in im_contact['id']:\n",
    "    contact['email'] = im_contact['id']\n",
    "else:\n",
    "    contact['phone'] = im_contact['id']\n",
    "\n",
    "contact"
   ]
  },
  {
   "cell_type": "markdown",
   "id": "7a0a79a9",
   "metadata": {},
   "source": [
    "---"
   ]
  },
  {
   "cell_type": "code",
   "execution_count": null,
   "id": "1ae671a7",
   "metadata": {},
   "outputs": [],
   "source": [
    "import os\n",
    "from dotenv import load_dotenv\n",
    "from openai import OpenAI\n",
    "from tools import *\n",
    "import json\n",
    "\n",
    "load_dotenv()\n",
    "\n",
    "client = OpenAI(api_key=os.getenv(\"OPENAI_API_KEY\"))"
   ]
  },
  {
   "cell_type": "code",
   "execution_count": null,
   "id": "7bd5ef02",
   "metadata": {},
   "outputs": [],
   "source": [
    "def create_response(input_messages):\n",
    "    response = client.responses.create(\n",
    "        model=\"gpt-4.1-mini\",\n",
    "        input=input_messages,\n",
    "        tools=tools,\n",
    "        temperature=0.7,\n",
    "        max_output_tokens=2048,\n",
    "        include=[\"web_search_call.action.sources\"]\n",
    "    )\n",
    "    input_messages += response.output\n",
    "    for output_item in response.output:\n",
    "        if hasattr(output_item, \"action\"):\n",
    "            for source in output_item.action.sources:\n",
    "                print(f\"Source: {source.url}\")\n",
    "        if output_item.type == \"function_call\":\n",
    "            print(f\"Calling {output_item.name}({json.loads(output_item.arguments)})\")\n",
    "            function_output = call_function(output_item.name, json.loads(output_item.arguments))\n",
    "            input_messages.append({\n",
    "                \"type\": \"function_call_output\",\n",
    "                \"call_id\": output_item.call_id,\n",
    "                \"output\": str(function_output)\n",
    "            })\n",
    "            return create_response(input_messages)\n",
    "    return response, input_messages"
   ]
  },
  {
   "cell_type": "code",
   "execution_count": 27,
   "id": "71615668",
   "metadata": {},
   "outputs": [],
   "source": [
    "system_prompt = \"You are a helpful assistant that can answer questions and help with tasks.\"\n",
    "messages = [{\"role\": \"system\", \"content\": [{\"type\": \"input_text\", \"text\": system_prompt}]}]"
   ]
  },
  {
   "cell_type": "code",
   "execution_count": null,
   "id": "9d10221b",
   "metadata": {},
   "outputs": [
    {
     "name": "stdout",
     "output_type": "stream",
     "text": [
      "[{'content': [{'text': 'What is the current date and time?',\n",
      "               'type': 'input_text'}],\n",
      "  'role': 'user'}]\n",
      "Calling get_current_date({})\n",
      "[{'content': [{'text': 'What is the current date and time?',\n",
      "               'type': 'input_text'}],\n",
      "  'role': 'user'},\n",
      " ResponseFunctionToolCall(arguments='{}', call_id='call_lzh8juQ7abtG1mG6d8938Fz1', name='get_current_date', type='function_call', id='fc_68d1d70d6a708198a3e93d1d1704d6a609f1b934d89329b5', status='completed'),\n",
      " {'call_id': 'call_lzh8juQ7abtG1mG6d8938Fz1',\n",
      "  'output': 'Monday September 22, 2025',\n",
      "  'type': 'function_call_output'}]\n",
      "Calling get_current_time({})\n",
      "[{'content': [{'text': 'What is the current date and time?',\n",
      "               'type': 'input_text'}],\n",
      "  'role': 'user'},\n",
      " ResponseFunctionToolCall(arguments='{}', call_id='call_lzh8juQ7abtG1mG6d8938Fz1', name='get_current_date', type='function_call', id='fc_68d1d70d6a708198a3e93d1d1704d6a609f1b934d89329b5', status='completed'),\n",
      " {'call_id': 'call_lzh8juQ7abtG1mG6d8938Fz1',\n",
      "  'output': 'Monday September 22, 2025',\n",
      "  'type': 'function_call_output'},\n",
      " ResponseFunctionToolCall(arguments='{}', call_id='call_HNRMX8vwQByum70WzXqChGWZ', name='get_current_time', type='function_call', id='fc_68d1d70e77b08198a2286c04d3b51e0909f1b934d89329b5', status='completed'),\n",
      " {'call_id': 'call_HNRMX8vwQByum70WzXqChGWZ',\n",
      "  'output': '04:09 PM',\n",
      "  'type': 'function_call_output'}]\n",
      "The current date is Monday, September 22, 2025, and the time is 04:09 PM. (447 tokens)\n"
     ]
    }
   ],
   "source": [
    "user_input = \"What is the current date and time?\"\n",
    "messages.append({\"role\": \"user\", \"content\": [{\"type\": \"input_text\", \"text\": user_input}]})\n",
    "\n",
    "response, messages = create_response(messages)\n",
    "\n",
    "if len(messages) > 20:\n",
    "    messages = messages[-20:]\n",
    "\n",
    "print(f\"{response.output_text} ({response.usage.total_tokens} tokens)\")"
   ]
  },
  {
   "cell_type": "code",
   "execution_count": null,
   "id": "cd8d65f0",
   "metadata": {},
   "outputs": [],
   "source": []
  }
 ],
 "metadata": {
  "kernelspec": {
   "display_name": "Python 3",
   "language": "python",
   "name": "python3"
  },
  "language_info": {
   "codemirror_mode": {
    "name": "ipython",
    "version": 3
   },
   "file_extension": ".py",
   "mimetype": "text/x-python",
   "name": "python",
   "nbconvert_exporter": "python",
   "pygments_lexer": "ipython3",
   "version": "3.13.5"
  }
 },
 "nbformat": 4,
 "nbformat_minor": 5
}
