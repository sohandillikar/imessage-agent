{
 "cells": [
  {
   "cell_type": "code",
   "execution_count": 2,
   "id": "3035e649",
   "metadata": {},
   "outputs": [],
   "source": [
    "import contacts as cts\n",
    "import imessages as im"
   ]
  },
  {
   "cell_type": "code",
   "execution_count": 3,
   "id": "d4c41fad",
   "metadata": {},
   "outputs": [
    {
     "data": {
      "text/plain": [
       "{'id': 8,\n",
       " 'firstname': 'ishani 🐿️',\n",
       " 'lastname': None,\n",
       " 'phone': '5107503277',\n",
       " 'email': None}"
      ]
     },
     "execution_count": 3,
     "metadata": {},
     "output_type": "execute_result"
    }
   ],
   "source": [
    "contact = cts.filter_contacts(firstname='ishani')[0]\n",
    "contact"
   ]
  },
  {
   "cell_type": "code",
   "execution_count": 5,
   "id": "04b44cde",
   "metadata": {},
   "outputs": [
    {
     "data": {
      "text/plain": [
       "{'ROWID': 60,\n",
       " 'id': '+15107503277',\n",
       " 'country': 'US',\n",
       " 'service': 'iMessage',\n",
       " 'uncanonicalized_id': '5107503277',\n",
       " 'person_centric_id': None}"
      ]
     },
     "execution_count": 5,
     "metadata": {},
     "output_type": "execute_result"
    }
   ],
   "source": [
    "im_contact = im.get_contacts(f\"id LIKE '%{contact[\"phone\"]}%' OR id LIKE '%{contact[\"email\"]}%'\")[0]\n",
    "im_contact"
   ]
  },
  {
   "cell_type": "code",
   "execution_count": 6,
   "id": "9ef0fc41",
   "metadata": {},
   "outputs": [
    {
     "data": {
      "text/plain": [
       "{'id': 8,\n",
       " 'firstname': 'ishani 🐿️',\n",
       " 'lastname': None,\n",
       " 'phone': '+15107503277',\n",
       " 'email': None}"
      ]
     },
     "execution_count": 6,
     "metadata": {},
     "output_type": "execute_result"
    }
   ],
   "source": [
    "if '@' in im_contact['id']:\n",
    "    contact['email'] = im_contact['id']\n",
    "else:\n",
    "    contact['phone'] = im_contact['id']\n",
    "\n",
    "contact"
   ]
  }
 ],
 "metadata": {
  "kernelspec": {
   "display_name": "Python 3",
   "language": "python",
   "name": "python3"
  },
  "language_info": {
   "codemirror_mode": {
    "name": "ipython",
    "version": 3
   },
   "file_extension": ".py",
   "mimetype": "text/x-python",
   "name": "python",
   "nbconvert_exporter": "python",
   "pygments_lexer": "ipython3",
   "version": "3.13.5"
  }
 },
 "nbformat": 4,
 "nbformat_minor": 5
}
