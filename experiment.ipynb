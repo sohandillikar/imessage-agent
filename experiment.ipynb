{
 "cells": [
  {
   "cell_type": "code",
   "execution_count": 2,
   "id": "3035e649",
   "metadata": {},
   "outputs": [],
   "source": [
    "import contacts as cts\n",
    "import imessages as im"
   ]
  },
  {
   "cell_type": "code",
   "execution_count": 3,
   "id": "d4c41fad",
   "metadata": {},
   "outputs": [
    {
     "data": {
      "text/plain": [
       "{'id': 8,\n",
       " 'firstname': 'ishani 🐿️',\n",
       " 'lastname': None,\n",
       " 'phone': '5107503277',\n",
       " 'email': None}"
      ]
     },
     "execution_count": 3,
     "metadata": {},
     "output_type": "execute_result"
    }
   ],
   "source": [
    "contact = cts.filter_contacts(firstname='ishani')[0]\n",
    "contact"
   ]
  },
  {
   "cell_type": "code",
   "execution_count": 5,
   "id": "04b44cde",
   "metadata": {},
   "outputs": [
    {
     "data": {
      "text/plain": [
       "{'ROWID': 60,\n",
       " 'id': '+15107503277',\n",
       " 'country': 'US',\n",
       " 'service': 'iMessage',\n",
       " 'uncanonicalized_id': '5107503277',\n",
       " 'person_centric_id': None}"
      ]
     },
     "execution_count": 5,
     "metadata": {},
     "output_type": "execute_result"
    }
   ],
   "source": [
    "im_contact = im.get_contacts(f\"id LIKE '%{contact[\"phone\"]}%' OR id LIKE '%{contact[\"email\"]}%'\")[0]\n",
    "im_contact"
   ]
  },
  {
   "cell_type": "code",
   "execution_count": 6,
   "id": "9ef0fc41",
   "metadata": {},
   "outputs": [
    {
     "data": {
      "text/plain": [
       "{'id': 8,\n",
       " 'firstname': 'ishani 🐿️',\n",
       " 'lastname': None,\n",
       " 'phone': '+15107503277',\n",
       " 'email': None}"
      ]
     },
     "execution_count": 6,
     "metadata": {},
     "output_type": "execute_result"
    }
   ],
   "source": [
    "if '@' in im_contact['id']:\n",
    "    contact['email'] = im_contact['id']\n",
    "else:\n",
    "    contact['phone'] = im_contact['id']\n",
    "\n",
    "contact"
   ]
  },
  {
   "cell_type": "markdown",
   "id": "7a0a79a9",
   "metadata": {},
   "source": [
    "---"
   ]
  },
  {
   "cell_type": "code",
   "execution_count": 1,
   "id": "1ae671a7",
   "metadata": {},
   "outputs": [],
   "source": [
    "import os\n",
    "from dotenv import load_dotenv\n",
    "from openai import OpenAI\n",
    "\n",
    "load_dotenv()\n",
    "\n",
    "client = OpenAI(api_key=os.getenv(\"OPENAI_API_KEY\"))"
   ]
  },
  {
   "cell_type": "code",
   "execution_count": 2,
   "id": "71615668",
   "metadata": {},
   "outputs": [],
   "source": [
    "system_prompt = \"You are a helpful assistant that can answer questions and help with tasks.\"\n",
    "messages = [\n",
    "    {\"role\": \"system\", \"content\": [{\"type\": \"input_text\", \"text\": system_prompt}]}\n",
    "]"
   ]
  },
  {
   "cell_type": "code",
   "execution_count": null,
   "id": "9d10221b",
   "metadata": {},
   "outputs": [
    {
     "name": "stdout",
     "output_type": "stream",
     "text": [
      "Response(id='resp_68d0e4115268819893c7b6f055ab847706ec004b9f033e56', created_at=1758520337.0, error=None, incomplete_details=None, instructions=None, metadata={}, model='gpt-4.1-mini-2025-04-14', object='response', output=[ResponseOutputMessage(id='msg_68d0e412ff008198aa55d705d5e716db06ec004b9f033e56', content=[ResponseOutputText(annotations=[], text='\"Param Sundari\" primarily refers to a popular Hindi song from the 2021 Indian film *Mimi*. The song is composed by A. R. Rahman, sung by Shreya Ghoshal, and is known for its vibrant and catchy music that blends Indian folk and contemporary styles. It became very popular and widely appreciated for its energetic tune and dance performance.\\n\\nIn addition, \"Param Sundari\" is also the title of a 2025 Hindi romantic comedy film starring Sidharth Malhotra and Janhvi Kapoor. The film\\'s story revolves around a young man named Param who uses an AI app to find his soulmate, leading to a cross-cultural romantic journey with a woman named Sundari from Kerala.\\n\\nThe phrase \"Param Sundari\" itself means \"supreme beauty\" or \"most beautiful\" in Hindi.', type='output_text', logprobs=[])], role='assistant', status='completed', type='message')], parallel_tool_calls=True, temperature=0.7, tool_choice='auto', tools=[WebSearchTool(type='web_search', filters=None, search_context_size='medium', user_location=UserLocation(city=None, country='US', region=None, timezone='America/Los_Angeles', type='approximate'))], top_p=1.0, background=False, conversation=None, max_output_tokens=2048, max_tool_calls=None, previous_response_id=None, prompt=None, prompt_cache_key=None, reasoning=Reasoning(effort=None, generate_summary=None, summary=None), safety_identifier=None, service_tier='default', status='completed', text=ResponseTextConfig(format=ResponseFormatText(type='text'), verbosity='medium'), top_logprobs=0, truncation='disabled', usage=ResponseUsage(input_tokens=1876, input_tokens_details=InputTokensDetails(cached_tokens=0), output_tokens=171, output_tokens_details=OutputTokensDetails(reasoning_tokens=0), total_tokens=2047), user=None, billing={'payer': 'developer'}, store=True)\n",
      "\"Param Sundari\" primarily refers to a popular Hindi song from the 2021 Indian film *Mimi*. The song is composed by A. R. Rahman, sung by Shreya Ghoshal, and is known for its vibrant and catchy music that blends Indian folk and contemporary styles. It became very popular and widely appreciated for its energetic tune and dance performance.\n",
      "\n",
      "In addition, \"Param Sundari\" is also the title of a 2025 Hindi romantic comedy film starring Sidharth Malhotra and Janhvi Kapoor. The film's story revolves around a young man named Param who uses an AI app to find his soulmate, leading to a cross-cultural romantic journey with a woman named Sundari from Kerala.\n",
      "\n",
      "The phrase \"Param Sundari\" itself means \"supreme beauty\" or \"most beautiful\" in Hindi. (2047 tokens)\n"
     ]
    }
   ],
   "source": [
    "user_input = \"What is Param Sundari\"\n",
    "messages.append({\"role\": \"user\", \"content\": [{\"type\": \"input_text\", \"text\": user_input}]})\n",
    "\n",
    "response = client.responses.create(\n",
    "    model=\"gpt-4.1-mini\",\n",
    "    input=messages,\n",
    "    tools=[\n",
    "        {\n",
    "            \"type\": \"web_search\",\n",
    "            \"user_location\": {\n",
    "                \"type\": \"approximate\",\n",
    "                \"country\": \"US\",\n",
    "                \"timezone\": \"America/Los_Angeles\"\n",
    "            }\n",
    "        }\n",
    "    ],\n",
    "    temperature=0.7,\n",
    "    max_output_tokens=2048,\n",
    "    include=[\"web_search_call.action.sources\"]\n",
    ")\n",
    "\n",
    "messages.append({\"role\": \"assistant\", \"content\": [{\"type\": \"output_text\", \"text\": response.output_text}]})\n",
    "if len(messages) > 20:\n",
    "    messages = messages[-20:]\n",
    "\n",
    "print(f\"{response.output_text} ({response.usage.total_tokens} tokens)\")\n",
    "\n",
    "for output_item in response.output:\n",
    "    if hasattr(output_item, \"action\"):\n",
    "        for source in output_item.action.sources:\n",
    "            print(f\"Source: {source.url}\")"
   ]
  },
  {
   "cell_type": "code",
   "execution_count": 35,
   "id": "ed7a279b",
   "metadata": {},
   "outputs": [
    {
     "data": {
      "text/plain": [
       "[ActionSearchSource(type='url', url='https://www.rottentomatoes.com/m/param_sundari?utm_source=openai'),\n",
       " ActionSearchSource(type='url', url='https://music.apple.com/us/song/1576395278?utm_source=openai'),\n",
       " ActionSearchSource(type='url', url='https://music.apple.com/uz/song/param-sundari/1576395278?utm_source=openai'),\n",
       " ActionSearchSource(type='url', url='https://timesofindia.indiatimes.com/entertainment/hindi/bollywood/news/param-sundari-pardesiya-song-starring-sidharth-malhotra-and-janhvi-kapoor-out-now-their-fresh-chemistry-brings-back-old-school-love-with-nostalgic-vibe/articleshow/122994143.cms?utm_source=openai'),\n",
       " ActionSearchSource(type='url', url='https://timesofindia.indiatimes.com/entertainment/hindi/bollywood/news/param-sundari-pardesiya-song-starring-sidharth-malhotra-and-janhvi-kapoor-out-now-their-fresh-chemistry-brings-back-old-school-love-with-nostalgic-vibe/amp_articleshow/122994143.cms?utm_source=openai'),\n",
       " ActionSearchSource(type='url', url='https://timesofindia.indiatimes.com/entertainment/hindi/bollywood/news/param-sundari-cbfc-clears-sidharth-malhotra-and-janhvi-kapoor-starrer-with-these-edits/articleshow/123548781.cms?utm_source=openai'),\n",
       " ActionSearchSource(type='url', url='https://timesofindia.indiatimes.com/videos/entertainment/music/hindi/param-sundari-song-pardesiya/videoshow/122992298.cms?utm_source=openai'),\n",
       " ActionSearchSource(type='url', url='https://timesofindia.indiatimes.com/videos/entertainment/music/hindi/mimi-song-param-sundari/videoshow/84496520.cms?utm_source=openai'),\n",
       " ActionSearchSource(type='url', url='https://timesofindia.indiatimes.com/entertainment/hindi/bollywood/box-office/param-sundaris-becomes-janhavi-kapoors-third-biggest-grosser-beating-mr-and-mrs-mahi/articleshow/123730981.cms?utm_source=openai'),\n",
       " ActionSearchSource(type='url', url='https://www.mid-day.com/entertainment/bollywood-news/article/param-sundari-sidharth-malhotra-and-janhvi-kapoor-romantic-song-pardesiya-out-23587249?utm_source=openai'),\n",
       " ActionSearchSource(type='url', url='https://www.shazam.com/en-us/song/1830035604/param-sundari-theme?utm_source=openai'),\n",
       " ActionSearchSource(type='url', url='https://www.shazam.com/en-us/song/1576395278/param-sundari?utm_source=openai')]"
      ]
     },
     "execution_count": 35,
     "metadata": {},
     "output_type": "execute_result"
    }
   ],
   "source": [
    "response.output[0].action.sources"
   ]
  },
  {
   "cell_type": "code",
   "execution_count": null,
   "id": "3e324262",
   "metadata": {},
   "outputs": [],
   "source": []
  }
 ],
 "metadata": {
  "kernelspec": {
   "display_name": "Python 3",
   "language": "python",
   "name": "python3"
  },
  "language_info": {
   "codemirror_mode": {
    "name": "ipython",
    "version": 3
   },
   "file_extension": ".py",
   "mimetype": "text/x-python",
   "name": "python",
   "nbconvert_exporter": "python",
   "pygments_lexer": "ipython3",
   "version": "3.13.5"
  }
 },
 "nbformat": 4,
 "nbformat_minor": 5
}
