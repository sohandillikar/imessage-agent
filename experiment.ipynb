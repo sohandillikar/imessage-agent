{
 "cells": [
  {
   "cell_type": "code",
   "execution_count": 7,
   "id": "3035e649",
   "metadata": {},
   "outputs": [],
   "source": [
    "import contacts as cts\n",
    "import imessages as im"
   ]
  },
  {
   "cell_type": "code",
   "execution_count": 29,
   "id": "d4c41fad",
   "metadata": {},
   "outputs": [
    {
     "data": {
      "text/plain": [
       "{'id': 167,\n",
       " 'firstname': 'sp das 🕉️',\n",
       " 'lastname': None,\n",
       " 'phone': '19162609704',\n",
       " 'email': 'sanjith.p@icloud.com'}"
      ]
     },
     "execution_count": 29,
     "metadata": {},
     "output_type": "execute_result"
    }
   ],
   "source": [
    "contact = cts.filter_contacts(firstname='sp das')[0]\n",
    "contact"
   ]
  },
  {
   "cell_type": "code",
   "execution_count": 30,
   "id": "04b44cde",
   "metadata": {},
   "outputs": [
    {
     "data": {
      "text/plain": [
       "{'ROWID': 63,\n",
       " 'id': '+19162609704',\n",
       " 'country': 'US',\n",
       " 'service': 'iMessage',\n",
       " 'uncanonicalized_id': None,\n",
       " 'person_centric_id': None}"
      ]
     },
     "execution_count": 30,
     "metadata": {},
     "output_type": "execute_result"
    }
   ],
   "source": [
    "im_contact = im.get_contacts(f\"id LIKE '%{contact[\"phone\"]}%' OR id LIKE '%{contact[\"email\"]}%'\")[0]\n",
    "im_contact"
   ]
  },
  {
   "cell_type": "code",
   "execution_count": 31,
   "id": "9ef0fc41",
   "metadata": {},
   "outputs": [
    {
     "data": {
      "text/plain": [
       "{'id': 167,\n",
       " 'firstname': 'sp das 🕉️',\n",
       " 'lastname': None,\n",
       " 'phone': '+19162609704',\n",
       " 'email': 'sanjith.p@icloud.com'}"
      ]
     },
     "execution_count": 31,
     "metadata": {},
     "output_type": "execute_result"
    }
   ],
   "source": [
    "if '@' in im_contact['id']:\n",
    "    contact['email'] = im_contact['id']\n",
    "else:\n",
    "    contact['phone'] = im_contact['id']\n",
    "\n",
    "contact"
   ]
  },
  {
   "cell_type": "markdown",
   "id": "7a0a79a9",
   "metadata": {},
   "source": [
    "---"
   ]
  },
  {
   "cell_type": "code",
   "execution_count": 12,
   "id": "cd8d65f0",
   "metadata": {},
   "outputs": [],
   "source": [
    "import contacts as cts\n",
    "import imessages as im"
   ]
  },
  {
   "cell_type": "code",
   "execution_count": 32,
   "id": "9bbf6883",
   "metadata": {},
   "outputs": [
    {
     "data": {
      "text/plain": [
       "{'dt': '2025-09-22 17:07:43',\n",
       " 'guid': '53693D53-9246-4B4B-B4FC-A31D94E25F03',\n",
       " 'reply_to_guid': '1256B190-1936-49EC-806B-83B9F074F884',\n",
       " 'sender_id': '+19254003943',\n",
       " 'chat_id': 'chat583646158701744780',\n",
       " 'chat_name': 'Summer boys ',\n",
       " 'is_from_me': 0,\n",
       " 'content': 'Who is in shower rn?'}"
      ]
     },
     "execution_count": 32,
     "metadata": {},
     "output_type": "execute_result"
    }
   ],
   "source": [
    "messages = im.get_messages(f\"sender_id = '+19254003943'\")\n",
    "messages[-1]"
   ]
  },
  {
   "cell_type": "code",
   "execution_count": 17,
   "id": "1eb3529d",
   "metadata": {},
   "outputs": [
    {
     "data": {
      "text/plain": [
       "([{'dt': '2025-09-22 09:36:14',\n",
       "   'guid': '3F4C53FB-1350-455F-8B7B-95AF01694D88',\n",
       "   'reply_to_guid': None,\n",
       "   'sender_id': '+15107503277',\n",
       "   'chat_id': None,\n",
       "   'chat_name': None,\n",
       "   'is_from_me': 1,\n",
       "   'content': 'are u awake'},\n",
       "  {'dt': '2025-09-22 10:25:57',\n",
       "   'guid': 'A909CFC2-5E3B-4CBF-A78D-6475C07522A5',\n",
       "   'reply_to_guid': '3F4C53FB-1350-455F-8B7B-95AF01694D88',\n",
       "   'sender_id': '+15107503277',\n",
       "   'chat_id': None,\n",
       "   'chat_name': None,\n",
       "   'is_from_me': 0,\n",
       "   'content': 'yesyes'},\n",
       "  {'dt': '2025-09-22 10:25:59',\n",
       "   'guid': '6D06D8C1-1520-445F-A835-2AC7DD45DC95',\n",
       "   'reply_to_guid': 'A909CFC2-5E3B-4CBF-A78D-6475C07522A5',\n",
       "   'sender_id': '+15107503277',\n",
       "   'chat_id': None,\n",
       "   'chat_name': None,\n",
       "   'is_from_me': 0,\n",
       "   'content': 'i’ve been'},\n",
       "  {'dt': '2025-09-22 10:26:07',\n",
       "   'guid': '63498FBC-60A9-4939-A0ED-8B78CC7341D3',\n",
       "   'reply_to_guid': '6D06D8C1-1520-445F-A835-2AC7DD45DC95',\n",
       "   'sender_id': '+15107503277',\n",
       "   'chat_id': None,\n",
       "   'chat_name': None,\n",
       "   'is_from_me': 0,\n",
       "   'content': 'where r u'}],\n",
       " [])"
      ]
     },
     "execution_count": 17,
     "metadata": {},
     "output_type": "execute_result"
    }
   ],
   "source": [
    "im.get_conversation_history(messages[-1])"
   ]
  },
  {
   "cell_type": "code",
   "execution_count": null,
   "id": "8884fd3f",
   "metadata": {},
   "outputs": [],
   "source": []
  }
 ],
 "metadata": {
  "kernelspec": {
   "display_name": "Python 3",
   "language": "python",
   "name": "python3"
  },
  "language_info": {
   "codemirror_mode": {
    "name": "ipython",
    "version": 3
   },
   "file_extension": ".py",
   "mimetype": "text/x-python",
   "name": "python",
   "nbconvert_exporter": "python",
   "pygments_lexer": "ipython3",
   "version": "3.13.5"
  }
 },
 "nbformat": 4,
 "nbformat_minor": 5
}
