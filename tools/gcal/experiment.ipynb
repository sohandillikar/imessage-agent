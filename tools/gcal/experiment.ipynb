{
 "cells": [
  {
   "cell_type": "code",
   "execution_count": 1,
   "id": "75e95c4d",
   "metadata": {},
   "outputs": [],
   "source": [
    "import utils\n",
    "from datetime import datetime, time, timedelta\n",
    "from pytz import timezone"
   ]
  },
  {
   "cell_type": "code",
   "execution_count": 2,
   "id": "25c72e72",
   "metadata": {},
   "outputs": [
    {
     "name": "stdout",
     "output_type": "stream",
     "text": [
      "2025-09-30T00:00:00-07:00\n",
      "2025-10-01T00:00:00-07:00\n"
     ]
    }
   ],
   "source": [
    "tz = timezone(\"America/Los_Angeles\")\n",
    "\n",
    "start = tz.localize(datetime.combine(datetime.today(), time.min))\n",
    "end = start + timedelta(days=1)\n",
    "\n",
    "start = start.isoformat()\n",
    "end = end.isoformat()\n",
    "\n",
    "print(start)\n",
    "print(end)"
   ]
  },
  {
   "cell_type": "code",
   "execution_count": 3,
   "id": "4a5c10b5",
   "metadata": {},
   "outputs": [
    {
     "name": "stdout",
     "output_type": "stream",
     "text": [
      "Routine\n",
      "sdillikar@ucdavis.edu\n",
      "Events\n",
      "School\n"
     ]
    }
   ],
   "source": [
    "calendars = utils.get_all_calendars()\n",
    "\n",
    "for calendar in calendars:\n",
    "    print(calendar[\"summary\"])"
   ]
  },
  {
   "cell_type": "code",
   "execution_count": 4,
   "id": "d419d03b",
   "metadata": {},
   "outputs": [
    {
     "data": {
      "text/plain": [
       "5"
      ]
     },
     "execution_count": 4,
     "metadata": {},
     "output_type": "execute_result"
    }
   ],
   "source": [
    "events = utils.get_events_from_calendars(calendars, start, end, confirmed_only=True)\n",
    "events = utils.extract_key_info_from_events(events)\n",
    "\n",
    "len(events)"
   ]
  },
  {
   "cell_type": "code",
   "execution_count": 5,
   "id": "8555912b",
   "metadata": {},
   "outputs": [
    {
     "data": {
      "text/plain": [
       "[{'title': \"Review Sumit's Resume\",\n",
       "  'description': None,\n",
       "  'location': None,\n",
       "  'start': '2025-09-30 13:00:00',\n",
       "  'end': '2025-09-30 13:30:00',\n",
       "  'status': 'confirmed'},\n",
       " {'title': 'STA 141B A02 - Lecture',\n",
       "  'description': 'Data & Web Technologies for Data Analysis\\nInstructor: TBA\\nLocation: Olson Hall 206',\n",
       "  'location': 'Olson Hall 206',\n",
       "  'start': '2025-09-30 09:00:00',\n",
       "  'end': '2025-09-30 10:20:00',\n",
       "  'status': 'confirmed'},\n",
       " {'title': 'MGT 011A B02 - Lecture',\n",
       "  'description': 'Elementary Accounting\\nInstructor: M. Bains\\nLocation: Young Hall 198',\n",
       "  'location': 'Young Hall 198',\n",
       "  'start': '2025-09-30 10:30:00',\n",
       "  'end': '2025-09-30 11:50:00',\n",
       "  'status': 'confirmed'},\n",
       " {'title': 'STA 130A B02 - Discussion',\n",
       "  'description': 'Mathematical Statistics: Brief Course\\nInstructor: C. Le\\nLocation: Bainer Hall 1060',\n",
       "  'location': 'Bainer Hall 1060',\n",
       "  'start': '2025-09-30 13:10:00',\n",
       "  'end': '2025-09-30 14:00:00',\n",
       "  'status': 'confirmed'},\n",
       " {'title': 'STA 160 A02 - Discussion Laboratory',\n",
       "  'description': 'Practice in Statistical Data Science\\nInstructor: L. Cui\\nLocation: Olson Hall 207',\n",
       "  'location': 'Olson Hall 207',\n",
       "  'start': '2025-09-30 14:10:00',\n",
       "  'end': '2025-09-30 15:00:00',\n",
       "  'status': 'confirmed'}]"
      ]
     },
     "execution_count": 5,
     "metadata": {},
     "output_type": "execute_result"
    }
   ],
   "source": [
    "events"
   ]
  }
 ],
 "metadata": {
  "kernelspec": {
   "display_name": "Python 3",
   "language": "python",
   "name": "python3"
  },
  "language_info": {
   "codemirror_mode": {
    "name": "ipython",
    "version": 3
   },
   "file_extension": ".py",
   "mimetype": "text/x-python",
   "name": "python",
   "nbconvert_exporter": "python",
   "pygments_lexer": "ipython3",
   "version": "3.13.5"
  }
 },
 "nbformat": 4,
 "nbformat_minor": 5
}
